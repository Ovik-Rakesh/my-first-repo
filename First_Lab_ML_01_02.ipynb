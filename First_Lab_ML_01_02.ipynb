{
  "nbformat": 4,
  "nbformat_minor": 0,
  "metadata": {
    "colab": {
      "provenance": [],
      "mount_file_id": "1RaBGsrHohjCMSrwaTK8Pk8UpQxoGoATX",
      "authorship_tag": "ABX9TyPXjVSfaFaiFfrpT2Km6eWc",
      "include_colab_link": true
    },
    "kernelspec": {
      "name": "python3",
      "display_name": "Python 3"
    },
    "language_info": {
      "name": "python"
    }
  },
  "cells": [
    {
      "cell_type": "markdown",
      "metadata": {
        "id": "view-in-github",
        "colab_type": "text"
      },
      "source": [
        "<a href=\"https://colab.research.google.com/github/Ovik-Rakesh/my-first-repo/blob/main/First_Lab_ML_01_02.ipynb\" target=\"_parent\"><img src=\"https://colab.research.google.com/assets/colab-badge.svg\" alt=\"Open In Colab\"/></a>"
      ]
    },
    {
      "cell_type": "code",
      "execution_count": 1,
      "metadata": {
        "colab": {
          "base_uri": "https://localhost:8080/"
        },
        "id": "9vQSep7Dtez2",
        "outputId": "7b07ec12-b918-4ceb-cd25-13075c87e199"
      },
      "outputs": [
        {
          "output_type": "stream",
          "name": "stdout",
          "text": [
            "Rakesh Barman!\n"
          ]
        }
      ],
      "source": [
        "print(\"Rakesh Barman!\")"
      ]
    },
    {
      "cell_type": "code",
      "source": [
        "thislist = [\"apple\",\"banana\",\"orange\",\"mango\"]\n",
        "print(thislist)"
      ],
      "metadata": {
        "colab": {
          "base_uri": "https://localhost:8080/"
        },
        "id": "p5iPExfu31WD",
        "outputId": "6ff43add-bbae-45d8-f509-86955684601e"
      },
      "execution_count": 2,
      "outputs": [
        {
          "output_type": "stream",
          "name": "stdout",
          "text": [
            "['apple', 'banana', 'orange', 'mango']\n"
          ]
        }
      ]
    },
    {
      "cell_type": "code",
      "source": [
        "mylist = [\"apple\",\"mango\",\"cherry\"]\n",
        "print(len(mylist))\n",
        "print(mylist)\n",
        "msq = \"Hello World!\"\n",
        "print(msq)"
      ],
      "metadata": {
        "colab": {
          "base_uri": "https://localhost:8080/"
        },
        "id": "SjECQI3b4L1f",
        "outputId": "8bb751c2-6f26-4d21-a715-1fb9a9cf342f"
      },
      "execution_count": 3,
      "outputs": [
        {
          "output_type": "stream",
          "name": "stdout",
          "text": [
            "3\n",
            "['apple', 'mango', 'cherry']\n",
            "Hello World!\n"
          ]
        }
      ]
    },
    {
      "cell_type": "code",
      "source": [
        "thislist = [\"apple\", \"banana\", \"cherry\", \"orange\", \"kiwi\", \"melon\", \"mango\"]\n",
        "print(thislist[2:5])\n",
        "print(thislist[:5])\n",
        "print(thislist[2:])\n"
      ],
      "metadata": {
        "colab": {
          "base_uri": "https://localhost:8080/"
        },
        "id": "hlaIYrFp5HiN",
        "outputId": "0e81752b-3d4e-452b-b375-e2eaf23f9172"
      },
      "execution_count": 4,
      "outputs": [
        {
          "output_type": "stream",
          "name": "stdout",
          "text": [
            "['cherry', 'orange', 'kiwi']\n",
            "['apple', 'banana', 'cherry', 'orange', 'kiwi']\n",
            "['cherry', 'orange', 'kiwi', 'melon', 'mango']\n"
          ]
        }
      ]
    },
    {
      "cell_type": "code",
      "source": [
        "rlist = [\"apple\",\"mango\",\"cherry\",\"Lichu\",\"apple\"]\n",
        "rlist.append(\"Banana\")\n",
        "print(rlist[0])\n",
        "print(rlist)\n",
        "rlist.pop()\n",
        "print(rlist.count(\"apple\"))\n",
        "print(rlist)\n"
      ],
      "metadata": {
        "colab": {
          "base_uri": "https://localhost:8080/"
        },
        "id": "H_vQLd2y5hxq",
        "outputId": "d21a6626-3ef5-4b15-bb94-010cc1060c04"
      },
      "execution_count": 7,
      "outputs": [
        {
          "output_type": "stream",
          "name": "stdout",
          "text": [
            "apple\n",
            "['apple', 'mango', 'cherry', 'Lichu', 'apple', 'Banana']\n",
            "2\n",
            "['apple', 'mango', 'cherry', 'Lichu', 'apple']\n"
          ]
        }
      ]
    },
    {
      "cell_type": "markdown",
      "source": [
        "Basic python practise\n"
      ],
      "metadata": {
        "id": "JcD95gbs4IPP"
      }
    }
  ]
}